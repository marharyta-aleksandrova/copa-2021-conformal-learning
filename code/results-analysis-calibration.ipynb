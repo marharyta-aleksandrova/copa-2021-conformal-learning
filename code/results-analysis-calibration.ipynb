{
 "cells": [
  {
   "cell_type": "code",
   "execution_count": null,
   "metadata": {},
   "outputs": [],
   "source": [
    "import numpy as np\n",
    "import pandas as pd\n",
    "import matplotlib.pyplot as plt"
   ]
  },
  {
   "cell_type": "markdown",
   "metadata": {},
   "source": [
    "# Information about datasets"
   ]
  },
  {
   "cell_type": "code",
   "execution_count": null,
   "metadata": {},
   "outputs": [],
   "source": [
    "from scripts2 import *\n",
    "from scripts import *"
   ]
  },
  {
   "cell_type": "code",
   "execution_count": null,
   "metadata": {},
   "outputs": [],
   "source": [
    "datasets_load = {\n",
    "        'balance': load_balance, 'cars': load_cars, 'ecoli': load_ecoli, 'glass': load_glass,\n",
    "                     'iris': load_iris, 'user': load_user, 'wave': load_wave, 'wine': load_wine,\n",
    "                     'wine_Red': load_wine_red, 'wine_White': load_wine_white, 'yeast': load_yeast, 'zoo': load_zoo\n",
    "                     }"
   ]
  },
  {
   "cell_type": "code",
   "execution_count": null,
   "metadata": {},
   "outputs": [],
   "source": [
    "data_order = [\n",
    "    'iris',\n",
    "    'user',\n",
    "    'glass',\n",
    "    'cars',\n",
    "    'wave',\n",
    "    'balance',\n",
    "    'wine_Red',\n",
    "    'wine_White',\n",
    "    'yeast',\n",
    "    ]"
   ]
  },
  {
   "cell_type": "code",
   "execution_count": null,
   "metadata": {},
   "outputs": [],
   "source": [
    "data = load_yeast()"
   ]
  },
  {
   "cell_type": "markdown",
   "metadata": {},
   "source": [
    "Printing information about datasets:"
   ]
  },
  {
   "cell_type": "code",
   "execution_count": null,
   "metadata": {},
   "outputs": [],
   "source": [
    "for data_name in data_order:\n",
    "    data = datasets_load[data_name]()\n",
    "    print(data_name)\n",
    "    print('\\tinstances = {}'.format(len(data['data'])))\n",
    "    print('\\tattributes = {}'.format(len(data['data'][0])))\n",
    "    print('\\tclasses = {}'.format(len(data['target_names'])))"
   ]
  },
  {
   "cell_type": "markdown",
   "metadata": {},
   "source": [
    "# Checking validity"
   ]
  },
  {
   "cell_type": "code",
   "execution_count": null,
   "metadata": {},
   "outputs": [],
   "source": [
    "file_name = 'analysis-results/significance/A_significance_{}.csv'"
   ]
  },
  {
   "cell_type": "code",
   "execution_count": null,
   "metadata": {},
   "outputs": [],
   "source": [
    "data_order = ['balance', \n",
    "              'cars', \n",
    "              'glass', 'iris', 'user', 'wave', \n",
    "              'wine_Red', 'wine_White', 'yeast', \n",
    "             ]"
   ]
  },
  {
   "cell_type": "markdown",
   "metadata": {},
   "source": [
    "Prepare a dataframe with all information"
   ]
  },
  {
   "cell_type": "code",
   "execution_count": null,
   "metadata": {},
   "outputs": [],
   "source": [
    "all_dfs = []\n",
    "for dataset_name in data_order:\n",
    "    df = pd.read_csv(file_name.format(dataset_name), index_col=0)\n",
    "    df['dataset'] = dataset_name\n",
    "    all_dfs.append(df)\n",
    "df = pd.concat(all_dfs)\n",
    "#df.drop(df['eps'] == 0.03, inplace=True)\n",
    "df.sort_values(by=['dataset', 'algo', 'eps'], inplace=True)\n",
    "df.columns = ['eps', 'M', 'IP', 'IP_M', 'algo', 'dataset']\n",
    "df.reset_index(drop=True, inplace=True)\n",
    "df.head()"
   ]
  },
  {
   "cell_type": "code",
   "execution_count": null,
   "metadata": {},
   "outputs": [],
   "source": [
    "np.round(df.groupby('eps').mean(), 2)"
   ]
  },
  {
   "cell_type": "code",
   "execution_count": null,
   "metadata": {},
   "outputs": [],
   "source": []
  }
 ],
 "metadata": {
  "kernelspec": {
   "display_name": "Python 3",
   "language": "python",
   "name": "python3"
  },
  "language_info": {
   "codemirror_mode": {
    "name": "ipython",
    "version": 3
   },
   "file_extension": ".py",
   "mimetype": "text/x-python",
   "name": "python",
   "nbconvert_exporter": "python",
   "pygments_lexer": "ipython3",
   "version": "3.7.7"
  },
  "toc": {
   "base_numbering": 1,
   "nav_menu": {},
   "number_sections": true,
   "sideBar": true,
   "skip_h1_title": false,
   "title_cell": "Table of Contents",
   "title_sidebar": "Contents",
   "toc_cell": false,
   "toc_position": {},
   "toc_section_display": true,
   "toc_window_display": true
  },
  "varInspector": {
   "cols": {
    "lenName": 16,
    "lenType": 16,
    "lenVar": 40
   },
   "kernels_config": {
    "python": {
     "delete_cmd_postfix": "",
     "delete_cmd_prefix": "del ",
     "library": "var_list.py",
     "varRefreshCmd": "print(var_dic_list())"
    },
    "r": {
     "delete_cmd_postfix": ") ",
     "delete_cmd_prefix": "rm(",
     "library": "var_list.r",
     "varRefreshCmd": "cat(var_dic_list()) "
    }
   },
   "types_to_exclude": [
    "module",
    "function",
    "builtin_function_or_method",
    "instance",
    "_Feature"
   ],
   "window_display": false
  }
 },
 "nbformat": 4,
 "nbformat_minor": 4
}
