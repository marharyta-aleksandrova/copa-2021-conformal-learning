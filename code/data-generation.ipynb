{
 "cells": [
  {
   "cell_type": "markdown",
   "metadata": {},
   "source": [
    "# Generation of synthetic data"
   ]
  },
  {
   "cell_type": "code",
   "execution_count": null,
   "metadata": {},
   "outputs": [],
   "source": [
    "import numpy as np\n",
    "import pandas as pd\n",
    "\n",
    "import matplotlib.pyplot as plt"
   ]
  },
  {
   "cell_type": "code",
   "execution_count": null,
   "metadata": {},
   "outputs": [],
   "source": [
    "np.random.seed(1)"
   ]
  },
  {
   "cell_type": "code",
   "execution_count": null,
   "metadata": {},
   "outputs": [],
   "source": [
    "# set the value of standard deviation here\n",
    "sigma = .6\n",
    "\n",
    "# the points are (0,-1), (1,0), (0,1), (-1,0)\n",
    "\n",
    "x_1_arr = []\n",
    "x_2_arr = []\n",
    "y_arr = []\n",
    "\n",
    "class_dic = {\n",
    "    0: (0, -1),\n",
    "    1: (1, 0),\n",
    "    2: (0, 1),\n",
    "    3: (-1, 0),\n",
    "}\n",
    "\n",
    "num = 2000\n",
    "for key in class_dic.keys():\n",
    "    x1, x2 = class_dic[key]\n",
    "    for i in range(0, num):\n",
    "        if np.random.rand() < 0.5:\n",
    "            x_1_arr.append(x1 + np.random.normal(0, sigma))\n",
    "        else:\n",
    "            x_1_arr.append(x1 - np.random.normal(0, sigma))\n",
    "        if np.random.rand() < 0.5:\n",
    "            x_2_arr.append(x2 + np.random.normal(0, sigma))\n",
    "        else:\n",
    "            x_2_arr.append(x2 - np.random.normal(0, sigma))\n",
    "        y_arr.append(key)\n",
    "        pass\n",
    "    pass\n",
    "\n",
    "for i in range(0, 4):\n",
    "    plt.scatter(x_1_arr[i*num:(i+1)*num], x_2_arr[i*num:(i+1)*num], s=5, )"
   ]
  },
  {
   "cell_type": "code",
   "execution_count": null,
   "metadata": {},
   "outputs": [],
   "source": [
    "df = pd.DataFrame({\n",
    "    'x1': x_1_arr,\n",
    "    'x2': x_2_arr,\n",
    "    'y': y_arr,\n",
    "})\n",
    "print(len(df))\n",
    "df.head()"
   ]
  },
  {
   "cell_type": "code",
   "execution_count": null,
   "metadata": {},
   "outputs": [],
   "source": [
    "# uncomment the line below to save the generated dataset\n",
    "\n",
    "#df.to_csv('datasets/generated_normal_sigma_{}.csv'.format(sigma), index=False)"
   ]
  }
 ],
 "metadata": {
  "kernelspec": {
   "display_name": "Python 3",
   "language": "python",
   "name": "python3"
  },
  "language_info": {
   "codemirror_mode": {
    "name": "ipython",
    "version": 3
   },
   "file_extension": ".py",
   "mimetype": "text/x-python",
   "name": "python",
   "nbconvert_exporter": "python",
   "pygments_lexer": "ipython3",
   "version": "3.7.7"
  },
  "toc": {
   "base_numbering": 1,
   "nav_menu": {},
   "number_sections": true,
   "sideBar": true,
   "skip_h1_title": false,
   "title_cell": "Table of Contents",
   "title_sidebar": "Contents",
   "toc_cell": false,
   "toc_position": {},
   "toc_section_display": true,
   "toc_window_display": false
  },
  "varInspector": {
   "cols": {
    "lenName": 16,
    "lenType": 16,
    "lenVar": 40
   },
   "kernels_config": {
    "python": {
     "delete_cmd_postfix": "",
     "delete_cmd_prefix": "del ",
     "library": "var_list.py",
     "varRefreshCmd": "print(var_dic_list())"
    },
    "r": {
     "delete_cmd_postfix": ") ",
     "delete_cmd_prefix": "rm(",
     "library": "var_list.r",
     "varRefreshCmd": "cat(var_dic_list()) "
    }
   },
   "types_to_exclude": [
    "module",
    "function",
    "builtin_function_or_method",
    "instance",
    "_Feature"
   ],
   "window_display": false
  }
 },
 "nbformat": 4,
 "nbformat_minor": 1
}
